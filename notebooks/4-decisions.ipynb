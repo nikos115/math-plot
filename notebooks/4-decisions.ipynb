{
 "cells": [
  {
   "cell_type": "markdown",
   "metadata": {},
   "source": [
    "# Math with Python - Decision Making\n",
    "<img src=\"https://cdn.pixabay.com/photo/2015/12/30/10/53/one-way-street-1113973_960_720.jpg\" width=\"500\">"
   ]
  },
  {
   "cell_type": "markdown",
   "metadata": {},
   "source": [
    "When coding, you will definitely arrive at a point some time, when you will need to execute code on condition.\n",
    "\n",
    "For instance, you should perform a division calculation only when the divisor does not equal to zero.\n",
    "\n",
    "This is accomplished through the well known ***if ... else ...*** statements.\n",
    "\n",
    "Let's see the syntax in Python:\n",
    "\n",
    "`if {condition}:\n",
    "    code\n",
    " else:\n",
    "    code`\n",
    "    \n",
    "Code block indentation rules are the same as in functions and loops.\n",
    "The else block is optional.\n",
    "    \n",
    "We can use arithmetic operators for defining conditions:\n",
    "- `==` (equals)\n",
    "- `!=` (not equals)\n",
    "- `>, >=, <, <=`\n",
    "\n",
    "Let's define a division function that checks the divisor for compliance using conditional statements:"
   ]
  },
  {
   "cell_type": "code",
   "execution_count": 16,
   "metadata": {},
   "outputs": [],
   "source": [
    "def divide(divident, divisor):\n",
    "    if divisor != 0:\n",
    "        return divident / divisor\n",
    "    else:\n",
    "        return None  # None is a special value which represents 'No value'    "
   ]
  },
  {
   "cell_type": "code",
   "execution_count": 18,
   "metadata": {},
   "outputs": [
    {
     "name": "stdout",
     "output_type": "stream",
     "text": [
      "3.0\n",
      "None\n"
     ]
    }
   ],
   "source": [
    "print(divide(15, 5))\n",
    "print(divide(15, 0))  # should print None"
   ]
  },
  {
   "cell_type": "markdown",
   "metadata": {},
   "source": [
    "### Combining conditions\n",
    "\n",
    "You can create complex conditions using logical operators `and, or, not` and parentheses for defining precedence\n",
    "\n",
    "For instance, suppose you want to validate function input to be in the range (-5, 10)"
   ]
  },
  {
   "cell_type": "code",
   "execution_count": 8,
   "metadata": {},
   "outputs": [],
   "source": [
    "def f(x):\n",
    "    if x > -5 and x < 10:\n",
    "        return x\n",
    "    else:\n",
    "        return None"
   ]
  },
  {
   "cell_type": "code",
   "execution_count": 10,
   "metadata": {},
   "outputs": [
    {
     "name": "stdout",
     "output_type": "stream",
     "text": [
      "2\n",
      "None\n"
     ]
    }
   ],
   "source": [
    "print(f(2))\n",
    "print(f(12))  # should print None"
   ]
  },
  {
   "cell_type": "markdown",
   "metadata": {},
   "source": [
    "# Try it out!\n",
    "Use the cell bellow for:\n",
    "- Defining a function\n",
    "- Validating input to be in a custom range\n",
    "- Test your function by printing results\n",
    "\n",
    "Once you are ready, click on `Kernel` tab > `Restart & Run All Cells`"
   ]
  },
  {
   "cell_type": "code",
   "execution_count": null,
   "metadata": {},
   "outputs": [],
   "source": []
  }
 ],
 "metadata": {
  "kernelspec": {
   "display_name": "Python 3",
   "language": "python",
   "name": "python3"
  },
  "language_info": {
   "codemirror_mode": {
    "name": "ipython",
    "version": 3
   },
   "file_extension": ".py",
   "mimetype": "text/x-python",
   "name": "python",
   "nbconvert_exporter": "python",
   "pygments_lexer": "ipython3",
   "version": "3.8.2"
  }
 },
 "nbformat": 4,
 "nbformat_minor": 4
}
