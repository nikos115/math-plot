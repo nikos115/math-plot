{
 "cells": [
  {
   "cell_type": "markdown",
   "metadata": {},
   "source": [
    "# Math with Python\n",
    "\n",
    "Through this activity, high school students are introduced to Python coding.  \n",
    "They will learn about variables, control structures, using modules and doing maths with Python.  \n",
    "In the end, they will be able to plot math functions with [matplotlib](https://matplotlib.org/).\n",
    "\n",
    "To continue, click on the [1st](1-introduction.ipynb) link at the list of contents below:\n"
   ]
  },
  {
   "cell_type": "markdown",
   "metadata": {},
   "source": [
    "## List of contents:\n",
    "\n",
    "1. [Introduction to coding and Python](1-intro.ipynb)\n",
    "2. [Writing functions](2-functions.ipynb)\n",
    "3. [Lists and repetition](3-lists.ipynb)\n",
    "4. [Decision making](4-decisions.ipynb)\n",
    "5. [Using external libraries](5-modules.ipynb)\n",
    "6. [Plotting Math functions](6-plotting.ipynb)\n",
    "\n",
    "<img src=\"https://cdn.pixabay.com/photo/2017/06/05/15/52/calculator-2374442_960_720.png\" width=\"150\">\n",
    "<img src=\"https://www.python.org/static/community_logos/python-logo-master-v3-TM.png\" width=\"150\">\n"
   ]
  }
 ],
 "metadata": {
  "kernelspec": {
   "display_name": "Python 3",
   "language": "python",
   "name": "python3"
  },
  "language_info": {
   "codemirror_mode": {
    "name": "ipython",
    "version": 3
   },
   "file_extension": ".py",
   "mimetype": "text/x-python",
   "name": "python",
   "nbconvert_exporter": "python",
   "pygments_lexer": "ipython3",
   "version": "3.8.3"
  }
 },
 "nbformat": 4,
 "nbformat_minor": 4
}
