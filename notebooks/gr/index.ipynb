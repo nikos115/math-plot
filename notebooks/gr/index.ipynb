{
 "cells": [
  {
   "cell_type": "markdown",
   "metadata": {},
   "source": [
    "# Μαθηματικά με Python\n",
    "\n",
    "Με αυτή τη δραστηριότητα, μαθητές Γυμνασίου θα έρθουν σε επαφή με τον προγραμματισμό με Python.  \n",
    "Θα μάθουν για τις μεταβλητές, τις δομές ελέγχου ροής, τη χρήση βιβλιοθηκών και τη χρήση της Python στα Μαθηματικά.  \n",
    "Στο τέλος, θα είναι σε θέση να απεικονίζουν μαθηματικές συναρτήσεις με το [matplotlib](https://matplotlib.org/).\n",
    "\n",
    "Για να συνεχίσετε, επιλέξτε τον [1ο](1-introduction.ipynb) σύνδεσμο στα περιεχόμενα:\n"
   ]
  },
  {
   "cell_type": "markdown",
   "metadata": {},
   "source": [
    "## Περιεχόμενα:\n",
    "\n",
    "1. [Εισαγωγή στον προγραμματισμό και στην Python](1-intro.ipynb)\n",
    "2. [Ορισμός συναρτήσεων](2-functions.ipynb)\n",
    "3. [Λίστες και επανάληψη](3-lists.ipynb)\n",
    "4. [Εκτέλεση υπό συνθήκη](4-decisions.ipynb)\n",
    "5. [Χρήση Βιβλιοθηκών](5-modules.ipynb)\n",
    "6. [Απεικόνιση Μαθηματικών συναρτήσεων](6-plotting.ipynb)\n",
    "\n",
    "<img src=\"https://cdn.pixabay.com/photo/2017/06/05/15/52/calculator-2374442_960_720.png\" width=\"150\">\n",
    "<img src=\"https://www.python.org/static/community_logos/python-logo-master-v3-TM.png\" width=\"150\">\n"
   ]
  }
 ],
 "metadata": {
  "kernelspec": {
   "display_name": "Python 3",
   "language": "python",
   "name": "python3"
  },
  "language_info": {
   "codemirror_mode": {
    "name": "ipython",
    "version": 3
   },
   "file_extension": ".py",
   "mimetype": "text/x-python",
   "name": "python",
   "nbconvert_exporter": "python",
   "pygments_lexer": "ipython3",
   "version": "3.8.5"
  }
 },
 "nbformat": 4,
 "nbformat_minor": 4
}
