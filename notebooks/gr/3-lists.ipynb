{
 "cells": [
  {
   "cell_type": "markdown",
   "metadata": {},
   "source": [
    "# Μαθηματικά με Python - Λίστες\n",
    "<img src=\"https://cdn.pixabay.com/photo/2017/01/17/23/21/tape-1988491_960_720.png\" width=\"500\">"
   ]
  },
  {
   "cell_type": "markdown",
   "metadata": {},
   "source": [
    "## Αν χρειαζόμαστε πάρα πολλές μεταβλητές;\n",
    "Μπορούμε να ομαδοποιήσουμε πολλές τιμές σε μία μεταβλητή χρησιμοποιώντας μία λίστα.\n",
    "\n",
    "Μία λίστα είναι μία σειρά από τιμές μέσα σε αγκύλες, χωρισμένες με κόμμα."
   ]
  },
  {
   "cell_type": "code",
   "execution_count": 1,
   "metadata": {},
   "outputs": [
    {
     "name": "stdout",
     "output_type": "stream",
     "text": [
      "[1, 3, 5, 7, 9]\n",
      "[0, 2, 4, 6, 8]\n"
     ]
    }
   ],
   "source": [
    "odds = [1, 3, 5, 7, 9]\n",
    "print(odds)  # τυπώνει ολόκληρη τη λίστα με τους περιττούς αριθμούς\n",
    "\n",
    "even = [0, 2, 4, 6, 8]\n",
    "print(even)"
   ]
  },
  {
   "cell_type": "markdown",
   "metadata": {},
   "source": [
    "### Πώς αναφέρομαι σε ένα στοιχείο μιας λίστας?\n",
    "\n",
    "Εσωκλείοντας σε αγκύλες τη θέση του στοιχείου.\n",
    "***Προσοχή***, οι θέσεις ξεκινούν απ' το [0]."
   ]
  },
  {
   "cell_type": "code",
   "execution_count": 2,
   "metadata": {},
   "outputs": [
    {
     "name": "stdout",
     "output_type": "stream",
     "text": [
      "1\n",
      "6\n"
     ]
    }
   ],
   "source": [
    "print(odds[0])  # τυπώνει το πρώτο στοιχείο\n",
    "print(even[3])  # τυπώνει το τελευταίο στοιχείο"
   ]
  },
  {
   "cell_type": "markdown",
   "metadata": {},
   "source": [
    "Η τροποποίηση ενός στοιχείου γίνεται με τον ίδιο τρόπο"
   ]
  },
  {
   "cell_type": "code",
   "execution_count": 3,
   "metadata": {},
   "outputs": [
    {
     "name": "stdout",
     "output_type": "stream",
     "text": [
      "[1, 33, 5, 7, 9]\n"
     ]
    }
   ],
   "source": [
    "odds[1] = 33  # αλλάζει το 3 σε 33\n",
    "print(odds)"
   ]
  },
  {
   "cell_type": "markdown",
   "metadata": {},
   "source": [
    "### Πώς επεκτείνω τη λίστα ή αφαιρώ ένα στοιχείο της;\n",
    "\n",
    "Νέα στοιχεία προστίθενται μέσω της μεθόδου `append()`.\n",
    "Ένα στοιχείο αφαιρείται με τη λέξη `del`."
   ]
  },
  {
   "cell_type": "code",
   "execution_count": 4,
   "metadata": {},
   "outputs": [
    {
     "name": "stdout",
     "output_type": "stream",
     "text": [
      "[1, 5, 7, 9]\n",
      "[1, 5, 7, 9, 3]\n"
     ]
    }
   ],
   "source": [
    "del odds[1]  # αφαίρεση του 33\n",
    "print(odds)\n",
    "odds.append(3)  # βάζουμε στο τέλος το 3\n",
    "print(odds)"
   ]
  },
  {
   "cell_type": "markdown",
   "metadata": {},
   "source": [
    "## Τι άλλο μπορώ να κάνω;\n",
    "\n",
    "- Να βρω τον αριθμό των στοιχείων με τη συνάρτηση `len()`\n",
    "- Να ενώσω δύο λίστες με των τελεστή `+`\n",
    "- Να βρω το μικρότερο ή το μέγιστο στοιχείο με τις συναρτήσεις `min() max()`\n",
    "- ..."
   ]
  },
  {
   "cell_type": "code",
   "execution_count": 5,
   "metadata": {},
   "outputs": [
    {
     "name": "stdout",
     "output_type": "stream",
     "text": [
      "5\n",
      "5\n"
     ]
    }
   ],
   "source": [
    "print(len(odds))  # πόσα στοιχεία έχει η λίστα\n",
    "print(len(even))"
   ]
  },
  {
   "cell_type": "code",
   "execution_count": 6,
   "metadata": {},
   "outputs": [
    {
     "name": "stdout",
     "output_type": "stream",
     "text": [
      "[1, 5, 7, 9, 3, 0, 2, 4, 6, 8]\n",
      "10\n"
     ]
    }
   ],
   "source": [
    "naturals = odds + even  # η μεταβλητή naturals έχει περιττούς και άρτιους\n",
    "print(naturals)\n",
    "print(len(naturals))"
   ]
  },
  {
   "cell_type": "code",
   "execution_count": 7,
   "metadata": {},
   "outputs": [
    {
     "name": "stdout",
     "output_type": "stream",
     "text": [
      "0\n",
      "9\n"
     ]
    }
   ],
   "source": [
    "print(min(naturals))  # τυπώνει το ελάχιστο\n",
    "print(max(naturals))"
   ]
  },
  {
   "cell_type": "markdown",
   "metadata": {},
   "source": [
    "### Κόβωντας δρόμο\n",
    "\n",
    "Η Python παρέχει έναν εύκολο τρόπο για τη δημιουργία μιας ακολουθίας αριθμών με τη συνάρτηση `range(start, end+1, step)`. \n",
    "Μια ακολουθία μπορεί να μετατραπεί σε λίστα με τη συνάρτηση `list()`."
   ]
  },
  {
   "cell_type": "code",
   "execution_count": 8,
   "metadata": {},
   "outputs": [
    {
     "name": "stdout",
     "output_type": "stream",
     "text": [
      "[0, 1, 2, 3, 4, 5, 6, 7, 8, 9]\n"
     ]
    }
   ],
   "source": [
    "Naturals = list(range(0, 10, 1))  # πιο σύντομα: list(range(10))\n",
    "print(Naturals)"
   ]
  },
  {
   "cell_type": "code",
   "execution_count": 9,
   "metadata": {},
   "outputs": [
    {
     "name": "stdout",
     "output_type": "stream",
     "text": [
      "[1, 3, 5, 7, 9]\n"
     ]
    }
   ],
   "source": [
    "Odds = list(range(1, 10, 2))\n",
    "print(Odds)"
   ]
  },
  {
   "cell_type": "code",
   "execution_count": 10,
   "metadata": {},
   "outputs": [
    {
     "name": "stdout",
     "output_type": "stream",
     "text": [
      "[0, 2, 4, 6, 8]\n"
     ]
    }
   ],
   "source": [
    "Even = list(range(0, 10, 2))  # το 10 δεν περιλαμβάνεται\n",
    "print(Even)"
   ]
  },
  {
   "cell_type": "markdown",
   "metadata": {},
   "source": [
    "## Διάσχιση των στοιχείων μιας λίστας\n",
    "\n"
   ]
  },
  {
   "cell_type": "code",
   "execution_count": 11,
   "metadata": {},
   "outputs": [
    {
     "name": "stdout",
     "output_type": "stream",
     "text": [
      "0\n",
      "1\n",
      "2\n",
      "3\n",
      "4\n",
      "5\n",
      "6\n",
      "7\n",
      "8\n",
      "9\n"
     ]
    }
   ],
   "source": [
    "for number in Naturals:\n",
    "    print(number)"
   ]
  },
  {
   "cell_type": "code",
   "execution_count": 12,
   "metadata": {},
   "outputs": [],
   "source": [
    "def triple(x):\n",
    "    return 3*x"
   ]
  },
  {
   "cell_type": "code",
   "execution_count": 13,
   "metadata": {},
   "outputs": [
    {
     "name": "stdout",
     "output_type": "stream",
     "text": [
      "0\n",
      "3\n",
      "6\n",
      "9\n",
      "12\n",
      "15\n",
      "18\n",
      "21\n",
      "24\n",
      "27\n"
     ]
    }
   ],
   "source": [
    "for number in Naturals:\n",
    "    print(triple(number))"
   ]
  },
  {
   "cell_type": "markdown",
   "metadata": {},
   "source": [
    "### Εκτέλεση μιας συνάρτησης σε κάθε στοιχείο μιας λίστας"
   ]
  },
  {
   "cell_type": "code",
   "execution_count": 14,
   "metadata": {},
   "outputs": [
    {
     "name": "stdout",
     "output_type": "stream",
     "text": [
      "[0, 3, 6, 9, 12, 15, 18, 21, 24, 27]\n"
     ]
    }
   ],
   "source": [
    "tripled_list = list(map(triple, Naturals))\n",
    "print(tripled_list)"
   ]
  },
  {
   "cell_type": "markdown",
   "metadata": {},
   "source": [
    "## L00p ες..."
   ]
  },
  {
   "cell_type": "code",
   "execution_count": 15,
   "metadata": {},
   "outputs": [
    {
     "name": "stdout",
     "output_type": "stream",
     "text": [
      "0 0\n",
      "1 0\n",
      "2 0\n",
      "3 0\n"
     ]
    }
   ],
   "source": [
    "for i in range(4):\n",
    "    print(i, 0)  # η print δέχεται και τυπώνει στην ίδια γραμμή πάνω από ένα ορίσματα"
   ]
  },
  {
   "cell_type": "markdown",
   "metadata": {},
   "source": [
    "### Συνδυάζοντας x, y στην εμφάνιση"
   ]
  },
  {
   "cell_type": "code",
   "execution_count": 16,
   "metadata": {},
   "outputs": [
    {
     "name": "stdout",
     "output_type": "stream",
     "text": [
      "0 0\n",
      "2 6\n",
      "4 12\n",
      "6 18\n",
      "8 24\n"
     ]
    }
   ],
   "source": [
    "y = list(map(triple, even))\n",
    "\n",
    "even_length = len(even)  # πόσα στοιχεία έχει η naturals\n",
    "\n",
    "for i in range(even_length):\n",
    "    print(even[i], y[i])\n"
   ]
  },
  {
   "cell_type": "markdown",
   "metadata": {},
   "source": [
    "# Δοκίμασε το!\n",
    "Χρησιμοποίησε το παρακάτω κελί για να:\n",
    "- Ορίσεις μια συνάρτηση\n",
    "- Φτιάξεις μια λίστα από τιμές\n",
    "- Φτιάξεις μια λίστα από αποτελέσματα\n",
    "- Εμφανίσεις τα αποτελέσματα\n",
    "\n",
    "Μετά, κάνε click στις καρτέλες `Kernel` > `Restart & Run All`"
   ]
  },
  {
   "cell_type": "code",
   "execution_count": null,
   "metadata": {},
   "outputs": [],
   "source": []
  }
 ],
 "metadata": {
  "kernelspec": {
   "display_name": "Python 3",
   "language": "python",
   "name": "python3"
  },
  "language_info": {
   "codemirror_mode": {
    "name": "ipython",
    "version": 3
   },
   "file_extension": ".py",
   "mimetype": "text/x-python",
   "name": "python",
   "nbconvert_exporter": "python",
   "pygments_lexer": "ipython3",
   "version": "3.8.5"
  }
 },
 "nbformat": 4,
 "nbformat_minor": 4
}
