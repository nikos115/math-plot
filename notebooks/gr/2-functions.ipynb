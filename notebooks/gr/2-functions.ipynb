{
 "cells": [
  {
   "cell_type": "markdown",
   "metadata": {},
   "source": [
    "# Μαθηματικά με Python - Συναρτήσεις\n",
    "<img src=\"https://cdn.pixabay.com/photo/2016/07/11/12/16/mathematics-1509559_960_720.jpg\" width=\"500\">"
   ]
  },
  {
   "cell_type": "markdown",
   "metadata": {},
   "source": [
    "## Επαναχρησιμοποίηση Κώδικα\n",
    "\n",
    "Έστω ότι θελουμε να δοκιμάσουμε κάποιες τιμές για μία παράσταση (π.χ. 5*x + 11 - x/2).\n",
    "\n",
    "Θα αντιγράφαμε την εντολή που παράγει το αποτέλεσμα αρκετές φορές και θα ορίζαμε κάθε φορά την τιμή του x.\n",
    "Αν όμως θέλαμε να τροποποιήσουμε την παράσταση;\n",
    "Θα έπρεπε να εφαρμόσουμε την αλλαγή σε όλα τα αντίγραφα.\n",
    "\n",
    "#### Υπάρχει κάτι καλύτερο;\n",
    "Θα μπορούσαμε να τοποθετήσουμε την παράσταση σε μία συνάρτηση.\n",
    "\n",
    "#### Τι είναι η συνάρτηση;\n",
    "Με απλά λόγια, είναι μια διαδικασία που δέχεται κάτι (εισόδος) και με αυτό παράγει κάτι (έξοδος). Οι είσοδοι λέγονται ***ορίσματα*** και η έξοδος είναι αυτό που ***επιστρέφεται*** από τη συνάρτηση.  \n",
    "\n",
    "Μάλιστα, έχουμε ήδη χρησιμοποιήσει την ενσωματωμένη συνάρτηση `print()`."
   ]
  },
  {
   "cell_type": "markdown",
   "metadata": {},
   "source": [
    "\n",
    "\n",
    "## Πώς ορίζεται μια συνάρτηση;\n",
    "\n",
    "Στην Python μια συνάρτηση αρχίζει να ορίζεται με τη λέξη `def`.\n",
    "\n",
    "Έπειτα καθορίζουμε ένα μοναδικό όνομα για να την καλούμε (ισχύουν οι κανόνες ονοματολογίας που συναντήσαμε στις μεταβλητές),\n",
    "εσωκλείουμε τις παραμέτρους `(parameter1, parameter2, ...)` σε παρενθέσεις \n",
    "και κλείνουμε με άνω-κάτω τελεία `:` την κεφαλίδα της συνάρτησης.\n",
    "\n",
    "Οι εντολές που απαρτίζουν το σώμα της συνάρτησης πρέπει έχουν την ίδια εσοχή (συνήθως 4 κενά, το πρόγραμμα επεξεργασίας θα πρέπει να το ρυθμίζει αυτόματα).\n",
    "\n",
    "Στο τέλος, η λέξη return (προαιρετικά) αποδίδει την έξοδο της συνάρτησης (αν υπάρχει).\n",
    "\n",
    "Ας δούμε πώς μπορεούμε να ορίσουμε μια συνάστηση που πολλαπλασιάζει μια μεταβλητή με τον αριθμό 3:"
   ]
  },
  {
   "cell_type": "code",
   "execution_count": null,
   "metadata": {},
   "outputs": [],
   "source": [
    "def triple(x):  # x είναι ο αριθμός που θα τριπλασιαστεί\n",
    "    product = 3 * x  \n",
    "    return product  # η έξοδος της συνάρτησης"
   ]
  },
  {
   "cell_type": "markdown",
   "metadata": {},
   "source": [
    "Τώρα ας χρησιμοποιήσουμε τη συνάρτηση"
   ]
  },
  {
   "cell_type": "code",
   "execution_count": null,
   "metadata": {},
   "outputs": [],
   "source": [
    "tripled = triple(5)\n",
    "print(tripled)"
   ]
  },
  {
   "cell_type": "markdown",
   "metadata": {},
   "source": [
    "Μπορούμε να περάσουμε μεταβλητές ως όρισμα σε μια συνάρτηση"
   ]
  },
  {
   "cell_type": "code",
   "execution_count": null,
   "metadata": {},
   "outputs": [],
   "source": [
    "test = 5\n",
    "tripled = triple(test)\n",
    "print(tripled)"
   ]
  },
  {
   "cell_type": "markdown",
   "metadata": {},
   "source": [
    "Τώρα ας δοκιμάσουμε πολλές τιμές για μια παράσταση μέσω μιας συνάρτησης"
   ]
  },
  {
   "cell_type": "code",
   "execution_count": null,
   "metadata": {},
   "outputs": [],
   "source": [
    "def my_function(x):\n",
    "    return 5*x + 11 - x/2"
   ]
  },
  {
   "cell_type": "code",
   "execution_count": 5,
   "metadata": {},
   "outputs": [
    {
     "name": "stdout",
     "output_type": "stream",
     "text": [
      "29.0\n",
      "38.0\n",
      "47.0\n",
      "51.5\n",
      "56.0\n"
     ]
    }
   ],
   "source": [
    "result = my_function(4)\n",
    "print(result)\n",
    "result = my_function(6)\n",
    "print(result)\n",
    "result = my_function(8)\n",
    "print(result)\n",
    "result = my_function(9)\n",
    "print(result)\n",
    "result = my_function(10)\n",
    "print(result)"
   ]
  },
  {
   "cell_type": "raw",
   "metadata": {},
   "source": []
  },
  {
   "cell_type": "markdown",
   "metadata": {},
   "source": [
    "### Τι γίνεται αν η παράσταση περιέχει πάνω από μία μεταβλητές; \n",
    "\n",
    "Κανένα πρόβλημα, μπορούμε να χρησιμοποιήσουμε όσες χρειαζόμαστε.\n",
    "\n",
    "Για παράδειγμα, έστω (x*3 + y/2 - 9):"
   ]
  },
  {
   "cell_type": "code",
   "execution_count": 6,
   "metadata": {},
   "outputs": [],
   "source": [
    "def my_function2(x, y):\n",
    "    return x*3 + y/2 -9"
   ]
  },
  {
   "cell_type": "code",
   "execution_count": 7,
   "metadata": {},
   "outputs": [
    {
     "name": "stdout",
     "output_type": "stream",
     "text": [
      "7.0\n",
      "-5.5\n",
      "123.0\n",
      "-306.0\n"
     ]
    }
   ],
   "source": [
    "print(my_function2(4, 8))  # οι συναρτήσεις μπορούν να εκτελεστούν εμφωλευμένα\n",
    "print(my_function2(1, 1))\n",
    "print(my_function2(40, 24))\n",
    "print(my_function2(-100, 6))"
   ]
  },
  {
   "cell_type": "markdown",
   "metadata": {},
   "source": [
    "# Δοκίμασε το!\n",
    "Χρησιμοποίησε το παρακάτω κελί για να φτιάξεις τη δική σου συνάρτηση.\n",
    "\n",
    "Κάλεσε αυτή τη συνάρτηση πολλες φορές με διαφορετικά ορίσματα και εμφάνισε το αποτέλεσμα.\n",
    "\n",
    "Μετά, κάνε click στις καρτέλες `Kernel` > `Restart & Run All`"
   ]
  },
  {
   "cell_type": "code",
   "execution_count": null,
   "metadata": {},
   "outputs": [],
   "source": []
  }
 ],
 "metadata": {
  "kernelspec": {
   "display_name": "Python 3",
   "language": "python",
   "name": "python3"
  },
  "language_info": {
   "codemirror_mode": {
    "name": "ipython",
    "version": 3
   },
   "file_extension": ".py",
   "mimetype": "text/x-python",
   "name": "python",
   "nbconvert_exporter": "python",
   "pygments_lexer": "ipython3",
   "version": "3.8.5"
  }
 },
 "nbformat": 4,
 "nbformat_minor": 4
}
