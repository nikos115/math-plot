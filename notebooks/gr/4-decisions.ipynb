{
 "cells": [
  {
   "cell_type": "markdown",
   "metadata": {},
   "source": [
    "# Μαθηματικά με Python - Εκτέλεση υπό Συνθήκη\n",
    "<img src=\"https://cdn.pixabay.com/photo/2015/12/30/10/53/one-way-street-1113973_960_720.jpg\" width=\"500\">"
   ]
  },
  {
   "cell_type": "markdown",
   "metadata": {},
   "source": [
    "Κάποια στιγμή σίγουρα θα χρειαστεί να εκτελέσουμε κώδικα υπό συνθήκη.\n",
    "\n",
    "Για παράδειγμα, μια διαίρεση ορίζεται μόνο όταν ο διαιρέτης δεν είναι 0.\n",
    "\n",
    "Αυτό γίνεται με τα πασίγνωστα ***if ... else ...***.\n",
    "\n",
    "Ας δούμε τη σύνταξη στην Python:\n",
    "\n",
    "`if {condition}:\n",
    "    code\n",
    " else:\n",
    "    code`\n",
    "    \n",
    "Οι κανόνες εσοχής των blocks είναι ίδιοι όπως στις συναρτήσεις και στην επανάληψη.\n",
    "Το κομμάτι else είναι προαιρετικό.\n",
    "\n",
    "Για να ορίσουμε συνθήκες, μπορούμε να χρησιμοποιήσουμε τελεστές σύγκρισης:\n",
    "- `==` (ισότητα)\n",
    "- `!=` (διάφορο)\n",
    "- `>, >=, <, <=`\n",
    "\n",
    "Ας ορίσουμε μια συνάρτηση διαίρεσης που ελέγχει την ορθότητα του διαιρέτη μέσω συνθήκης:"
   ]
  },
  {
   "cell_type": "code",
   "execution_count": 1,
   "metadata": {},
   "outputs": [],
   "source": [
    "def divide(divident, divisor):\n",
    "    if divisor != 0:\n",
    "        return divident / divisor\n",
    "    else:\n",
    "        return None  # η None είναι μια ειδική τιμή που αναπαριστά 'απουσία τιμής'    "
   ]
  },
  {
   "cell_type": "code",
   "execution_count": 2,
   "metadata": {},
   "outputs": [
    {
     "name": "stdout",
     "output_type": "stream",
     "text": [
      "3.0\n",
      "None\n"
     ]
    }
   ],
   "source": [
    "print(divide(15, 5))\n",
    "print(divide(15, 0))  # θα πρέπει να τυπώσει None"
   ]
  },
  {
   "cell_type": "markdown",
   "metadata": {},
   "source": [
    "### Συνδυάζοντας συνθήκες\n",
    "\n",
    "Μπορούμε να δημιουργήσουμε πιο πολύπλοκες συνθήκες χρησιμοποιώντας λογικούς τελεστές `and, or, not` και παρενθέσεις για τον καθορισμό προτεραιότητας.\n",
    "\n",
    "Έστω για παράδειγμα, ότι θέλουμε να ελέγξουμε την είσοδο μιας συνάρτησης για το εύρος (-5, 10)"
   ]
  },
  {
   "cell_type": "code",
   "execution_count": 3,
   "metadata": {},
   "outputs": [],
   "source": [
    "def f(x):\n",
    "    if x > -5 and x < 10:\n",
    "        return x\n",
    "    else:\n",
    "        return None"
   ]
  },
  {
   "cell_type": "code",
   "execution_count": 4,
   "metadata": {},
   "outputs": [
    {
     "name": "stdout",
     "output_type": "stream",
     "text": [
      "2\n",
      "None\n"
     ]
    }
   ],
   "source": [
    "print(f(2))\n",
    "print(f(12))  # θα πρέπει να τυπώσει None"
   ]
  },
  {
   "cell_type": "markdown",
   "metadata": {},
   "source": [
    "# Δοκίμασε το!\n",
    "Χρησιμοποίησε το παρακάτω κελί για να:\n",
    "- Ορίσεις μια συνάρτηση\n",
    "- Ελέγξεις ότι η είσοδος είναι εντός ενός εύρους\n",
    "- Ελεγξεις τη συνάρτηση τυπώνοντας τη με διαφορετικά ορίσματα\n",
    "\n",
    "Κάλεσε αυτή τη συνάρτηση πολλες φορές με διαφορετικά ορίσματα και εμφάνισε το αποτέλεσμα.\n",
    "\n",
    "Μετά, κάνε click στις καρτέλες `Kernel` > `Restart & Run All`"
   ]
  },
  {
   "cell_type": "code",
   "execution_count": null,
   "metadata": {},
   "outputs": [],
   "source": []
  }
 ],
 "metadata": {
  "kernelspec": {
   "display_name": "Python 3",
   "language": "python",
   "name": "python3"
  },
  "language_info": {
   "codemirror_mode": {
    "name": "ipython",
    "version": 3
   },
   "file_extension": ".py",
   "mimetype": "text/x-python",
   "name": "python",
   "nbconvert_exporter": "python",
   "pygments_lexer": "ipython3",
   "version": "3.8.5"
  }
 },
 "nbformat": 4,
 "nbformat_minor": 4
}
