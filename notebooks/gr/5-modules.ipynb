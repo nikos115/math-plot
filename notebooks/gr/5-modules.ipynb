{
 "cells": [
  {
   "cell_type": "markdown",
   "metadata": {},
   "source": [
    "# Μαθηματικά με Python - Modules\n",
    "<img src=\"https://cdn.pixabay.com/photo/2017/11/12/18/32/book-2943383_960_720.png\" width=\"500\">"
   ]
  },
  {
   "cell_type": "markdown",
   "metadata": {},
   "source": [
    "## Πρέπει να φτιάξω κώδικα για ό,τι χρειάζομαι;\n",
    "\n",
    "Οχι δε χρειάζεται. Υπάρχει έτοιμος κώδικας σε πακέτα ή αρθρώματα (βιβλιοθήκες) που μπορείς να εισάγεις και να χρησιμοποιήσεις στα scripts. \n",
    "\n",
    "### Τι είναι ένα άρθρωμα (module) και πώς το χρησιμοποιώ;\n",
    "Με απλά λόγια, ένα άρθρωμα είναι ένα αρχείο με κώδικα Python. Μπορεί να περιέχει μεταβλητές, συναρτήσεις, ακόμα και κώδικα προς εκτέλεση.\n",
    "\n",
    "Μπορεί να χρησημοποιηθεί αφού το εισάγουμε στο script με τη δήλωση `import`.\n",
    "\n",
    "Για παράδειγμα, μπορούμε να εισάγουμε το math ώστε να εκτελέσουμε πιο πολύπλοκους υπολογισμούς."
   ]
  },
  {
   "cell_type": "code",
   "execution_count": 1,
   "metadata": {},
   "outputs": [
    {
     "name": "stdout",
     "output_type": "stream",
     "text": [
      "4.0\n"
     ]
    }
   ],
   "source": [
    "import math  # φορτώσαμε το module math\n",
    "\n",
    "print(math.sqrt(16))  # τώρα μπορούμε να το χρησιμοποιήσουμε για να υπολογίσουμε την τετραγωνική ρίζα ενός αριθμού"
   ]
  },
  {
   "cell_type": "markdown",
   "metadata": {},
   "source": [
    "Μπορούμε ακόμα να επιλέξουμε τι θα φορτώσουμε χρησιμοποιώντας τη δήλωση `from`.\n",
    "Έτσι, δε χρειάζεται να χρησιμοποιούμε τη σύνταξη `module.`.\n",
    "\n",
    "Το ανωτέρω κελί μπορεί να γίνει αλλιώς:"
   ]
  },
  {
   "cell_type": "code",
   "execution_count": 1,
   "metadata": {},
   "outputs": [
    {
     "name": "stdout",
     "output_type": "stream",
     "text": [
      "4.0\n"
     ]
    }
   ],
   "source": [
    "from math import sqrt  # φορτώνεται μόνο η συνάρτηση sqrt\n",
    "\n",
    "print(sqrt(16))  # χωρίς 'math.'"
   ]
  },
  {
   "cell_type": "markdown",
   "metadata": {},
   "source": [
    "### Μπορώ να δω τι περιέχει ένα modeule;\n",
    "Ναι, χρησιμοποιώντας τη συνάρτηση `dir()` **αφού φορτωθεί**.\n",
    "Ωστόσο, είναι καλύτερο να ανατρέξουμε στην [**τεκμηρίωση**](https://docs.python.org/3/library/math.html)."
   ]
  },
  {
   "cell_type": "code",
   "execution_count": 3,
   "metadata": {},
   "outputs": [
    {
     "data": {
      "text/plain": [
       "['__doc__',\n",
       " '__loader__',\n",
       " '__name__',\n",
       " '__package__',\n",
       " '__spec__',\n",
       " 'acos',\n",
       " 'acosh',\n",
       " 'asin',\n",
       " 'asinh',\n",
       " 'atan',\n",
       " 'atan2',\n",
       " 'atanh',\n",
       " 'ceil',\n",
       " 'comb',\n",
       " 'copysign',\n",
       " 'cos',\n",
       " 'cosh',\n",
       " 'degrees',\n",
       " 'dist',\n",
       " 'e',\n",
       " 'erf',\n",
       " 'erfc',\n",
       " 'exp',\n",
       " 'expm1',\n",
       " 'fabs',\n",
       " 'factorial',\n",
       " 'floor',\n",
       " 'fmod',\n",
       " 'frexp',\n",
       " 'fsum',\n",
       " 'gamma',\n",
       " 'gcd',\n",
       " 'hypot',\n",
       " 'inf',\n",
       " 'isclose',\n",
       " 'isfinite',\n",
       " 'isinf',\n",
       " 'isnan',\n",
       " 'isqrt',\n",
       " 'ldexp',\n",
       " 'lgamma',\n",
       " 'log',\n",
       " 'log10',\n",
       " 'log1p',\n",
       " 'log2',\n",
       " 'modf',\n",
       " 'nan',\n",
       " 'perm',\n",
       " 'pi',\n",
       " 'pow',\n",
       " 'prod',\n",
       " 'radians',\n",
       " 'remainder',\n",
       " 'sin',\n",
       " 'sinh',\n",
       " 'sqrt',\n",
       " 'tan',\n",
       " 'tanh',\n",
       " 'tau',\n",
       " 'trunc']"
      ]
     },
     "execution_count": 3,
     "metadata": {},
     "output_type": "execute_result"
    }
   ],
   "source": [
    "dir(math)"
   ]
  },
  {
   "cell_type": "markdown",
   "metadata": {},
   "source": [
    "## Σχεδιάζοντας !\n",
    "\n",
    "Για να σχεδιάσουμε, θα φορτώσουμε το πακέτο [**matplotlib**](https://matplotlib.org).\n",
    "Συνήθως χρησιμοποιούμε τη συλλογή pyplot μετονομάζωντας τη σε plt για ευκολία χρησιμοποιώντας τη λέξη `as`."
   ]
  },
  {
   "cell_type": "code",
   "execution_count": 2,
   "metadata": {},
   "outputs": [],
   "source": [
    "from matplotlib import pyplot as plt  # now plt is the pyplot collection of the matplotlib package"
   ]
  },
  {
   "cell_type": "markdown",
   "metadata": {},
   "source": [
    "Τώρα είμαστε έτοιμοι να σχεδιάσουμε γραφικές παραστάσεις!!\n",
    "\n",
    "1. Θα χρησιμοποιήσουμε τη συνάρτηση `plot()`\n",
    "2. Η συνάρτηση plot δέχεται μια λίστα με τιμές για τα x και μια λίστα με τιμές για τα y\n",
    "3. Μπορούμε να σχεδιάσουμε πολλές γραμμές ταυτόχρονα καλώντας την plot πάνω από μία φορές, οι οποίες εμφανίζονται με την  `plt.show()` "
   ]
  },
  {
   "cell_type": "code",
   "execution_count": 3,
   "metadata": {},
   "outputs": [
    {
     "data": {
      "image/png": "[encoded data removed]",
      "text/plain": [
       "<Figure size 432x288 with 1 Axes>"
      ]
     },
     "metadata": {
      "needs_background": "light"
     },
     "output_type": "display_data"
    }
   ],
   "source": [
    "x_values = [10, 20, 30]\n",
    "y_values = [5, 8, 10]\n",
    "\n",
    "plt.plot(x_values, y_values)\n",
    "plt.show()"
   ]
  },
  {
   "cell_type": "code",
   "execution_count": 6,
   "metadata": {},
   "outputs": [
    {
     "data": {
      "image/png": "[encoded data removed]",
      "text/plain": [
       "<Figure size 432x288 with 1 Axes>"
      ]
     },
     "metadata": {
      "needs_background": "light"
     },
     "output_type": "display_data"
    }
   ],
   "source": [
    "x_values2 = [5, 10, 15]\n",
    "y_values2 = [1, 3, 4]\n",
    "\n",
    "x_values3 = [8, 12, 23]\n",
    "y_values3 = [5, 5, 5]\n",
    "\n",
    "plt.plot(x_values, y_values)\n",
    "plt.plot(x_values2, y_values2)\n",
    "plt.plot(x_values3, y_values3)\n",
    "plt.show()"
   ]
  },
  {
   "cell_type": "markdown",
   "metadata": {},
   "source": [
    "### Ποιες τιμές αναπαριστά κάθε γραμμή;\n",
    "Όταν απεικονίζουμε πολλαπλές τιμές, καλό είναι να συμπεριλαμβάνουμε ένα υπόμνημα.\n",
    "\n",
    "Κάθε φορά που καλούμε την `plot()` μπορούμε να προσθέσουμε ένα όρισμα `label=` για να ονομάσουμε τη γραμμή.\n",
    "Το κείμενο εσωκλείεται σε μονά `'` ή διπλά quotes `\"`.\n",
    "\n",
    "Για να εμφανιστεί το υπόμνημα καλούμε την `plt.legend()` πριν την `plt.show()`\n"
   ]
  },
  {
   "cell_type": "code",
   "execution_count": 7,
   "metadata": {},
   "outputs": [
    {
     "data": {
      "image/png": "[encoded data removed]",
      "text/plain": [
       "<Figure size 432x288 with 1 Axes>"
      ]
     },
     "metadata": {
      "needs_background": "light"
     },
     "output_type": "display_data"
    }
   ],
   "source": [
    "plt.plot(x_values, y_values, label='line 1')\n",
    "plt.plot(x_values2, y_values2, label=\"line 2\")\n",
    "plt.plot(x_values3, y_values3, label='line 3')\n",
    "plt.legend()\n",
    "plt.show()"
   ]
  },
  {
   "cell_type": "markdown",
   "metadata": {},
   "source": [
    "# Δοκίμασε το!\n",
    "Χρησιμοποίησε το παρακάτω κελί για να αναπαραστήσεις μια δική σου συνάρτηση:\n",
    "\n",
    "Μετά, κάνε click στις καρτέλες `Kernel` > `Restart & Run All`"
   ]
  },
  {
   "cell_type": "code",
   "execution_count": null,
   "metadata": {},
   "outputs": [],
   "source": []
  }
 ],
 "metadata": {
  "kernelspec": {
   "display_name": "Python 3",
   "language": "python",
   "name": "python3"
  },
  "language_info": {
   "codemirror_mode": {
    "name": "ipython",
    "version": 3
   },
   "file_extension": ".py",
   "mimetype": "text/x-python",
   "name": "python",
   "nbconvert_exporter": "python",
   "pygments_lexer": "ipython3",
   "version": "3.8.5"
  }
 },
 "nbformat": 4,
 "nbformat_minor": 4
}
