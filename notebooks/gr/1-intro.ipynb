{
 "cells": [
  {
   "cell_type": "markdown",
   "metadata": {},
   "source": [
    "# Μαθηματικά με Python - Εισαγωγή\n",
    "<img src=\"https://cdn.pixabay.com/photo/2019/11/23/04/52/matrix-4646234__340.jpg\" width=\"500\">"
   ]
  },
  {
   "cell_type": "markdown",
   "metadata": {},
   "source": [
    "## Τι είναι οι μεταβλητές;\n",
    "Θα μπορούσαμε να πούμε ότι οι μεταβλητές είναι ένα κουτί που μπορεί να αποθηκεύσει οποιαδήποτε τιμή. Τις χρησιμοποιούμε για να αποθηκεύουμε τιμές ή το αποτέλεσμα ενός υπολογισμού."
   ]
  },
  {
   "cell_type": "markdown",
   "metadata": {},
   "source": [
    "### Κανόνες ονοματολογίας\n",
    "- Πρέπει να ξεκινούν με γράμμα ή το χαρακτήρα underscore `_`\n",
    "- Μπορούν να περιέχουν μόνο αλφαριθμητικούς χαρακτήρες ή underscore\n",
    "- Υπάρχει διάκριση πεζών-κεφαλαίων, το `test` είναι διαφορετικό από το `Test`, που με τη σειρά του είναι διαφορετικό από το `TEST`"
   ]
  },
  {
   "cell_type": "markdown",
   "metadata": {},
   "source": [
    "### Πώς αποθηκεύουμε κάτι σε μια μεταβλητή;\n",
    "Κάνοντας χρήση του τελεστή εκχώρησης `=`"
   ]
  },
  {
   "cell_type": "code",
   "execution_count": 1,
   "metadata": {},
   "outputs": [],
   "source": [
    "test = 5"
   ]
  },
  {
   "cell_type": "markdown",
   "metadata": {},
   "source": [
    "### Πώς μπορούμε να δούμε την τιμή μιας μεταβλητής;\n",
    "Κάνοντας χρήση της συνάρτησης `print()`"
   ]
  },
  {
   "cell_type": "code",
   "execution_count": 2,
   "metadata": {},
   "outputs": [
    {
     "name": "stdout",
     "output_type": "stream",
     "text": [
      "5\n"
     ]
    }
   ],
   "source": [
    "print(test)"
   ]
  },
  {
   "cell_type": "markdown",
   "metadata": {},
   "source": [
    "Μπορούμε να χρησιμοποιήσουμε της μεταβλητές για να κάνουμε υπολογισμούς"
   ]
  },
  {
   "cell_type": "code",
   "execution_count": 1,
   "metadata": {},
   "outputs": [
    {
     "name": "stdout",
     "output_type": "stream",
     "text": [
      "-10\n"
     ]
    }
   ],
   "source": [
    "x = 10\n",
    "print(-x)  # παίρνουμε τον αντίθετο, βάζοντας μείον πριν τη μεταβλητή"
   ]
  },
  {
   "cell_type": "code",
   "execution_count": 4,
   "metadata": {},
   "outputs": [
    {
     "name": "stdout",
     "output_type": "stream",
     "text": [
      "15\n"
     ]
    }
   ],
   "source": [
    "addit_1 = 10\n",
    "addit_2 = 5\n",
    "s = addit_1 + addit_2\n",
    "print(s)"
   ]
  },
  {
   "cell_type": "code",
   "execution_count": 5,
   "metadata": {},
   "outputs": [
    {
     "name": "stdout",
     "output_type": "stream",
     "text": [
      "5\n"
     ]
    }
   ],
   "source": [
    "subtrahend = 10\n",
    "subtracter = 5\n",
    "diff = subtrahend - subtracter\n",
    "print(diff)"
   ]
  },
  {
   "cell_type": "code",
   "execution_count": 6,
   "metadata": {},
   "outputs": [
    {
     "name": "stdout",
     "output_type": "stream",
     "text": [
      "50\n"
     ]
    }
   ],
   "source": [
    "multiplier_1 = 10\n",
    "multiplier_2 = 5\n",
    "product = multiplier_1 * multiplier_2\n",
    "print(product)"
   ]
  },
  {
   "cell_type": "code",
   "execution_count": 7,
   "metadata": {},
   "outputs": [
    {
     "name": "stdout",
     "output_type": "stream",
     "text": [
      "2.2\n"
     ]
    }
   ],
   "source": [
    "dividend = 11\n",
    "divisor = 5\n",
    "quotient = dividend / divisor\n",
    "print(quotient)"
   ]
  },
  {
   "cell_type": "code",
   "execution_count": 8,
   "metadata": {},
   "outputs": [
    {
     "name": "stdout",
     "output_type": "stream",
     "text": [
      "1\n"
     ]
    }
   ],
   "source": [
    "dividend = 11\n",
    "divisor = 5\n",
    "modulo = dividend % divisor\n",
    "print(modulo)"
   ]
  },
  {
   "cell_type": "code",
   "execution_count": 9,
   "metadata": {},
   "outputs": [
    {
     "name": "stdout",
     "output_type": "stream",
     "text": [
      "100000\n"
     ]
    }
   ],
   "source": [
    "base = 10\n",
    "exponent = 5\n",
    "power = base ** exponent  # ** is the exponentiation operator in Python\n",
    "print(power)"
   ]
  },
  {
   "cell_type": "markdown",
   "metadata": {},
   "source": [
    "## Προτεραιότητα αριθμητικών τελεστών\n",
    "Αν μια έκφραση περιέχει παραπάνω από έναν αριθμητικούς τελεστές, αξιολογούνται όπως και στα μαθηματικά:\n",
    "1. Παρενθέσεις `()`\n",
    "2. Δύναμη `**`\n",
    "3. Πρόσημο `+variable, -variable`\n",
    "4. Πολλαπλασιασμός, Διαίρεση, Υπόλοιπο `*, /, %`\n",
    "5. Πρόσθεση, Αφαίρεση `+, -`\n"
   ]
  },
  {
   "cell_type": "code",
   "execution_count": 10,
   "metadata": {},
   "outputs": [
    {
     "name": "stdout",
     "output_type": "stream",
     "text": [
      "4.0\n"
     ]
    }
   ],
   "source": [
    "result = (2 ** 4 + 4 * (2 + 2)) / 8\n",
    "print(result)"
   ]
  },
  {
   "cell_type": "markdown",
   "metadata": {},
   "source": [
    "# Δοκίμασε το!\n",
    "Χρησιμοποίησε το παρακάτω κελί για να υπολογίσεις μια παράσταση και να εμφανίσεις το αποτέλεσμα.\n",
    "\n",
    "Μετά, κάνε click στις καρτέλες `Kernel` > `Restart & Run All`"
   ]
  },
  {
   "cell_type": "code",
   "execution_count": null,
   "metadata": {},
   "outputs": [],
   "source": []
  }
 ],
 "metadata": {
  "kernelspec": {
   "display_name": "Python 3",
   "language": "python",
   "name": "python3"
  },
  "language_info": {
   "codemirror_mode": {
    "name": "ipython",
    "version": 3
   },
   "file_extension": ".py",
   "mimetype": "text/x-python",
   "name": "python",
   "nbconvert_exporter": "python",
   "pygments_lexer": "ipython3",
   "version": "3.8.5"
  }
 },
 "nbformat": 4,
 "nbformat_minor": 4
}
